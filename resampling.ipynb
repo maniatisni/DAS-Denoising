{
 "cells": [
  {
   "cell_type": "code",
   "execution_count": 11,
   "metadata": {},
   "outputs": [],
   "source": [
    "import numpy as np\n",
    "import matplotlib.pyplot as plt\n",
    "from scipy.signal import resample\n",
    "from utils import *\n",
    "from glob import glob\n",
    "import os"
   ]
  },
  {
   "cell_type": "code",
   "execution_count": null,
   "metadata": {},
   "outputs": [],
   "source": [
    "x = np.load()"
   ]
  },
  {
   "cell_type": "markdown",
   "metadata": {},
   "source": [
    "## Resampling\n",
    "Original data is 30 seconds in 1000 Hz which means 30000 samples.  \n",
    "We want to downsample to a frequency where we have 2048 samples in the end.  \n",
    "Frequency = 2048*1000/30000 = 68.267 Hz  \n",
    "While doing that, we will only keep channels 1700 to 2300,  \n",
    "normalize and convert to strain rate."
   ]
  },
  {
   "cell_type": "code",
   "execution_count": 3,
   "metadata": {},
   "outputs": [
    {
     "name": "stdout",
     "output_type": "stream",
     "text": [
      "Final Sample Rate is 68.27 Hz.\n"
     ]
    }
   ],
   "source": [
    "init_samplerate = 1000.\n",
    "init_samples = 30000\n",
    "final_samples = 2048\n",
    "final_samplerate = final_samples*init_samplerate/init_samples\n",
    "print(f\"Final Sample Rate is {final_samplerate:.2f} Hz.\")"
   ]
  },
  {
   "cell_type": "code",
   "execution_count": 14,
   "metadata": {},
   "outputs": [],
   "source": [
    "channel_min = 1700\n",
    "channel_max = 2300"
   ]
  },
  {
   "cell_type": "code",
   "execution_count": 19,
   "metadata": {},
   "outputs": [
    {
     "data": {
      "text/plain": [
       "3"
      ]
     },
     "execution_count": 19,
     "metadata": {},
     "output_type": "execute_result"
    }
   ],
   "source": [
    "input_data_path = \"C:\\\\Users\\\\nikos\\\\Desktop\\\\denoising\\\\test-full\"\n",
    "output_data_path = \"test\"\n",
    "filenames = glob(os.path.join(input_data_path, '*.npy'))\n",
    "len(filenames)"
   ]
  },
  {
   "cell_type": "code",
   "execution_count": 20,
   "metadata": {},
   "outputs": [],
   "source": [
    "for file in filenames:\n",
    "    d = np.load(file)[channel_min:channel_max]\n",
    "    d = (116*init_samplerate*d)/81920\n",
    "    d = d/d.std()\n",
    "    dr = np.zeros((d.shape[0],final_samples))\n",
    "    for channel in range(0,d.shape[0]):\n",
    "        dr[channel] = resample(d[channel,], num=final_samples)\n",
    "        np.save(os.path.join(output_data_path,file.split(\"\\\\\")[-1]), dr)"
   ]
  },
  {
   "cell_type": "code",
   "execution_count": 21,
   "metadata": {},
   "outputs": [],
   "source": [
    "train_ = glob(os.path.join(\"train\", '*.npy'))\n",
    "val_ = glob(os.path.join(\"validation\", '*.npy'))\n",
    "test_ = glob(os.path.join(\"test\", '*.npy'))"
   ]
  }
 ],
 "metadata": {
  "interpreter": {
   "hash": "86708be501984608ff7d49a1c64001b1b55e116eb54f9247236e90442823b5d1"
  },
  "kernelspec": {
   "display_name": "Python 3.9.5 64-bit ('base': conda)",
   "language": "python",
   "name": "python3"
  },
  "language_info": {
   "codemirror_mode": {
    "name": "ipython",
    "version": 3
   },
   "file_extension": ".py",
   "mimetype": "text/x-python",
   "name": "python",
   "nbconvert_exporter": "python",
   "pygments_lexer": "ipython3",
   "version": "3.9.7"
  },
  "orig_nbformat": 4
 },
 "nbformat": 4,
 "nbformat_minor": 2
}
