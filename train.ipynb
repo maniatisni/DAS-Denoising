{
 "cells": [
  {
   "cell_type": "code",
   "execution_count": 1,
   "metadata": {},
   "outputs": [],
   "source": [
    "from model import UNet\n",
    "from utils import *\n",
    "from data import mask_dataset\n",
    "from tqdm import tqdm\n",
    "from torch.utils.data import DataLoader\n",
    "import matplotlib.pyplot as plt\n",
    "import os\n",
    "from glob import glob\n",
    "import torch\n",
    "import torch.nn as nn\n",
    "sampleRate = 68.27"
   ]
  },
  {
   "cell_type": "markdown",
   "metadata": {},
   "source": [
    "## Train - Val - Test sets"
   ]
  },
  {
   "cell_type": "code",
   "execution_count": 2,
   "metadata": {},
   "outputs": [],
   "source": [
    "train_path = \"train\"\n",
    "val_path = \"validation\"\n",
    "test_path = \"test\"\n",
    "train_files = glob(os.path.join(train_path, '*.npy'))\n",
    "val_files = glob(os.path.join(val_path, '*.npy'))\n",
    "test_files = glob(os.path.join(test_path, '*.npy'))"
   ]
  },
  {
   "cell_type": "code",
   "execution_count": 3,
   "metadata": {},
   "outputs": [],
   "source": [
    "for file in train_files:\n",
    "    if file in val_files:\n",
    "        print(f\"{file} in validation dataset.\")\n",
    "    elif file in test_files:\n",
    "        print(f\"{file} in test set.\")\n",
    "    else:\n",
    "        pass"
   ]
  },
  {
   "cell_type": "markdown",
   "metadata": {},
   "source": [
    "## Hyperparameters"
   ]
  },
  {
   "cell_type": "code",
   "execution_count": 4,
   "metadata": {},
   "outputs": [],
   "source": [
    "N_sub = 32\n",
    "batch_size = 56\n",
    "hidden_layers = 12\n",
    "learning_rate = 0.01\n",
    "num_epochs = 20"
   ]
  },
  {
   "cell_type": "markdown",
   "metadata": {},
   "source": [
    "## Datasets and DataLoaders"
   ]
  },
  {
   "cell_type": "code",
   "execution_count": 5,
   "metadata": {},
   "outputs": [],
   "source": [
    "train_dataset = mask_dataset(data_path='train', f_min = 1, f_max = 10, N_sub=N_sub,sampleRate=sampleRate)\n",
    "train_loader = DataLoader(train_dataset,batch_size = batch_size,drop_last=True,shuffle = True)"
   ]
  },
  {
   "cell_type": "code",
   "execution_count": 6,
   "metadata": {},
   "outputs": [],
   "source": [
    "val_dataset = mask_dataset(data_path='validation', f_min = 1, f_max = 10, N_sub=N_sub, sampleRate=sampleRate)\n",
    "val_loader = DataLoader(val_dataset,batch_size = batch_size,drop_last=True,shuffle = True)"
   ]
  },
  {
   "cell_type": "code",
   "execution_count": 7,
   "metadata": {},
   "outputs": [],
   "source": [
    "# test_dataset = maask_dataset(data_path='test', f_min = 1, f_max = 10, N_sub=N_sub, sampleRate=sampleRate)\n",
    "# test_loader = DataLoader(test_dataset,batch_size = batch_size,drop_last=True,shuffle = True)"
   ]
  },
  {
   "cell_type": "code",
   "execution_count": 8,
   "metadata": {},
   "outputs": [
    {
     "name": "stdout",
     "output_type": "stream",
     "text": [
      "NVIDIA GeForce RTX 2070\n",
      "device is cuda:0.\n"
     ]
    }
   ],
   "source": [
    "# GPU\n",
    "print(torch.cuda.get_device_name(0))\n",
    "device = torch.device(\"cuda:0\" if torch.cuda.is_available() else \"cpu\")\n",
    "print(f'device is {device}.')\n",
    "\n",
    "model = UNet(input_bands=1, output_classes=1,hidden_channels=hidden_layers)\n",
    "model.to(device)\n",
    "\n",
    "# Mean Square Error \n",
    "criterion = nn.MSELoss()\n",
    "\n",
    "# Optimizer:\n",
    "optimizer = torch.optim.Adam(model.parameters(), lr = learning_rate)"
   ]
  },
  {
   "cell_type": "markdown",
   "metadata": {},
   "source": [
    "## Training"
   ]
  },
  {
   "cell_type": "code",
   "execution_count": 10,
   "metadata": {},
   "outputs": [
    {
     "name": "stdout",
     "output_type": "stream",
     "text": [
      "Starting epoch: #0\n"
     ]
    },
    {
     "name": "stderr",
     "output_type": "stream",
     "text": [
      "100%|██████████| 342/342 [01:48<00:00,  3.16it/s]\n",
      "100%|██████████| 85/85 [00:19<00:00,  4.27it/s]\n"
     ]
    },
    {
     "name": "stdout",
     "output_type": "stream",
     "text": [
      "Starting epoch: #1\n"
     ]
    },
    {
     "name": "stderr",
     "output_type": "stream",
     "text": [
      "100%|██████████| 342/342 [01:44<00:00,  3.29it/s]\n",
      "100%|██████████| 85/85 [00:20<00:00,  4.12it/s]\n"
     ]
    },
    {
     "name": "stdout",
     "output_type": "stream",
     "text": [
      "Starting epoch: #2\n"
     ]
    },
    {
     "name": "stderr",
     "output_type": "stream",
     "text": [
      "100%|██████████| 342/342 [01:42<00:00,  3.33it/s]\n",
      "100%|██████████| 85/85 [00:14<00:00,  5.72it/s]\n"
     ]
    },
    {
     "name": "stdout",
     "output_type": "stream",
     "text": [
      "Starting epoch: #3\n"
     ]
    },
    {
     "name": "stderr",
     "output_type": "stream",
     "text": [
      "100%|██████████| 342/342 [01:39<00:00,  3.45it/s]\n",
      "100%|██████████| 85/85 [00:15<00:00,  5.64it/s]\n"
     ]
    },
    {
     "name": "stdout",
     "output_type": "stream",
     "text": [
      "Starting epoch: #4\n"
     ]
    },
    {
     "name": "stderr",
     "output_type": "stream",
     "text": [
      "100%|██████████| 342/342 [01:41<00:00,  3.37it/s]\n",
      "100%|██████████| 85/85 [00:21<00:00,  3.99it/s]\n"
     ]
    },
    {
     "name": "stdout",
     "output_type": "stream",
     "text": [
      "Starting epoch: #5\n"
     ]
    },
    {
     "name": "stderr",
     "output_type": "stream",
     "text": [
      "100%|██████████| 342/342 [01:38<00:00,  3.48it/s]\n",
      "100%|██████████| 85/85 [00:16<00:00,  5.09it/s]\n"
     ]
    },
    {
     "name": "stdout",
     "output_type": "stream",
     "text": [
      "Starting epoch: #6\n"
     ]
    },
    {
     "name": "stderr",
     "output_type": "stream",
     "text": [
      "100%|██████████| 342/342 [01:44<00:00,  3.26it/s]\n",
      "100%|██████████| 85/85 [00:20<00:00,  4.07it/s]\n"
     ]
    },
    {
     "name": "stdout",
     "output_type": "stream",
     "text": [
      "Starting epoch: #7\n"
     ]
    },
    {
     "name": "stderr",
     "output_type": "stream",
     "text": [
      "100%|██████████| 342/342 [01:45<00:00,  3.23it/s]\n",
      "100%|██████████| 85/85 [00:18<00:00,  4.58it/s]\n"
     ]
    },
    {
     "name": "stdout",
     "output_type": "stream",
     "text": [
      "Starting epoch: #8\n"
     ]
    },
    {
     "name": "stderr",
     "output_type": "stream",
     "text": [
      "100%|██████████| 342/342 [01:47<00:00,  3.19it/s]\n",
      "100%|██████████| 85/85 [00:42<00:00,  1.98it/s]\n"
     ]
    },
    {
     "name": "stdout",
     "output_type": "stream",
     "text": [
      "Starting epoch: #9\n"
     ]
    },
    {
     "name": "stderr",
     "output_type": "stream",
     "text": [
      "100%|██████████| 342/342 [01:44<00:00,  3.27it/s]\n",
      "100%|██████████| 85/85 [01:38<00:00,  1.16s/it]\n"
     ]
    }
   ],
   "source": [
    "epochs_losses_train = []\n",
    "epochs_losses_val = []\n",
    "for epoch in range(num_epochs):\n",
    "    print(f\"Starting epoch: #{epoch}\")\n",
    "    batch_losses = []\n",
    "        ## TRAIN ##\n",
    "    for eval_samples, mask in tqdm(train_loader):\n",
    "        # apply mask\n",
    "        sample = eval_samples*mask.clone().detach()\n",
    "        sample = torch.unsqueeze(sample.squeeze(), 1)\n",
    "        \n",
    "        # transfer to GPU\n",
    "        eval_samples = eval_samples.to(device)\n",
    "        sample = sample.to(device)\n",
    "        optimizer.zero_grad()\n",
    "        \n",
    "        output = model(sample)\n",
    "        loss = criterion(eval_samples.squeeze(),output.squeeze())\n",
    "        batch_losses.append(loss.item())\n",
    "        loss.backward()\n",
    "        optimizer.step()\n",
    "    epochs_losses_train.append(np.mean(batch_losses))\n",
    "    model.eval()\n",
    "    eval_losses = []\n",
    "    with torch.no_grad():\n",
    "        for eval_samples, mask in tqdm(val_loader):\n",
    "            # apply mask\n",
    "            sample = eval_samples*mask.clone().detach()\n",
    "            sample = torch.unsqueeze(sample.squeeze(), 1)\n",
    "            # transfer to GPU\n",
    "            eval_samples = eval_samples.to(device)\n",
    "            sample = sample.to(device)\n",
    "            output = model(sample)\n",
    "            loss = criterion(eval_samples.squeeze(), sample.squeeze())\n",
    "            eval_losses.append(loss.item())\n",
    "    epochs_losses_val.append(np.mean(eval_losses))\n",
    "    model.train()"
   ]
  },
  {
   "cell_type": "code",
   "execution_count": 11,
   "metadata": {},
   "outputs": [
    {
     "data": {
      "text/plain": [
       "Text(0.5, 1.0, 'Validation MSE')"
      ]
     },
     "execution_count": 11,
     "metadata": {},
     "output_type": "execute_result"
    },
    {
     "data": {
      "image/png": "[encoded data removed]",
      "text/plain": [
       "<Figure size 648x504 with 2 Axes>"
      ]
     },
     "metadata": {
      "needs_background": "light"
     },
     "output_type": "display_data"
    }
   ],
   "source": [
    "fig, (ax1,ax2) = plt.subplots(1,2,figsize = (9,7))\n",
    "ax1.plot(epochs_losses_train)\n",
    "ax1.set_yscale(\"log\")\n",
    "ax1.set_title(\"Train MSE\")\n",
    "ax2.plot(epochs_losses_val,'orange')\n",
    "ax2.set_title(\"Validation MSE\")"
   ]
  },
  {
   "cell_type": "code",
   "execution_count": 12,
   "metadata": {},
   "outputs": [],
   "source": [
    "torch.save({\n",
    "                'epoch': epoch,\n",
    "                'model_state_dict': model.state_dict(),\n",
    "                'optimizer_state_dict': optimizer.state_dict(),\n",
    "                'loss': loss\n",
    "                }, \"C:\\\\Users\\\\nikos\\\\Desktop\\\\denoising\\\\model.pth\")\n"
   ]
  }
 ],
 "metadata": {
  "interpreter": {
   "hash": "aa8cdb58d08f0b6ce817fa7ad860908840140a266f1e5835709d32fe36344ae0"
  },
  "kernelspec": {
   "display_name": "Python 3.9.7 64-bit ('pytorch': conda)",
   "language": "python",
   "name": "python3"
  },
  "language_info": {
   "codemirror_mode": {
    "name": "ipython",
    "version": 3
   },
   "file_extension": ".py",
   "mimetype": "text/x-python",
   "name": "python",
   "nbconvert_exporter": "python",
   "pygments_lexer": "ipython3",
   "version": "3.9.7"
  },
  "orig_nbformat": 4
 },
 "nbformat": 4,
 "nbformat_minor": 2
}
