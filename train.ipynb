{
 "cells": [
  {
   "cell_type": "code",
   "execution_count": 25,
   "metadata": {},
   "outputs": [],
   "source": [
    "from model import DenoisingUNet\n",
    "from utils import *\n",
    "from data import mask_dataset\n",
    "from tqdm import tqdm\n",
    "from torch.utils.data import DataLoader\n",
    "import matplotlib.pyplot as plt\n",
    "import os\n",
    "from glob import glob\n",
    "import torch.nn as nn\n",
    "import torch\n",
    "sampleRate = 49.95"
   ]
  },
  {
   "cell_type": "markdown",
   "metadata": {},
   "source": [
    "## Train - Val - Test sets"
   ]
  },
  {
   "cell_type": "code",
   "execution_count": 26,
   "metadata": {},
   "outputs": [
    {
     "name": "stdout",
     "output_type": "stream",
     "text": [
      "18 train and 18 val files.\n"
     ]
    }
   ],
   "source": [
    "train_path = \"train-events\"\n",
    "val_path = \"validation-events\"\n",
    "train_files = glob(os.path.join(train_path, '*.npy'))\n",
    "val_files = glob(os.path.join(val_path, '*.npy'))\n",
    "print(f\"{len(train_files)} train and {len(val_files)} val files.\")"
   ]
  },
  {
   "cell_type": "markdown",
   "metadata": {},
   "source": [
    "## Hyperparameters"
   ]
  },
  {
   "cell_type": "code",
   "execution_count": 27,
   "metadata": {},
   "outputs": [],
   "source": [
    "N_sub = 11\n",
    "batch_size = 32\n",
    "hidden_layers = 6\n",
    "learning_rate = 5e-7\n",
    "num_epochs = 10"
   ]
  },
  {
   "cell_type": "markdown",
   "metadata": {},
   "source": [
    "## Datasets and DataLoaders"
   ]
  },
  {
   "cell_type": "code",
   "execution_count": 28,
   "metadata": {
    "pycharm": {
     "is_executing": true
    }
   },
   "outputs": [],
   "source": [
    "train_dataset = mask_dataset(data_path='train-events', f_min=1, f_max=10, N_sub=N_sub, sampleRate=sampleRate)\n",
    "train_loader = DataLoader(train_dataset, batch_size=batch_size, drop_last=True, shuffle=True)"
   ]
  },
  {
   "cell_type": "code",
   "execution_count": 29,
   "metadata": {
    "pycharm": {
     "is_executing": true
    }
   },
   "outputs": [],
   "source": [
    "val_dataset = mask_dataset(data_path='validation-events', f_min=1, f_max=10, N_sub=N_sub, sampleRate=sampleRate)\n",
    "val_loader = DataLoader(val_dataset, batch_size=batch_size, drop_last=True, shuffle=True)"
   ]
  },
  {
   "cell_type": "code",
   "execution_count": 30,
   "metadata": {
    "pycharm": {
     "is_executing": true
    }
   },
   "outputs": [
    {
     "name": "stdout",
     "output_type": "stream",
     "text": [
      "NVIDIA GeForce RTX 2070\n",
      "device is cuda:0.\n"
     ]
    }
   ],
   "source": [
    "# GPU\n",
    "print(torch.cuda.get_device_name(0))\n",
    "device = torch.device(\"cuda:0\" if torch.cuda.is_available() else \"cpu\")\n",
    "print(f'device is {device}.')\n",
    "\n",
    "# model = DenoisingUNet(input_bands=1, output_classes=1, hidden_channels=hidden_layers)\n",
    "# model.to(device)\n",
    "# Load model trained at synthetic data\n",
    "model = DenoisingUNet(input_bands=1, output_classes=1, hidden_channels=hidden_layers)\n",
    "state = torch.load('./new_model_tests/synthetic-train-2000.pth')\n",
    "model.load_state_dict(state['model_state_dict'])\n",
    "model.train()\n",
    "model.to(device)\n",
    "# Mean Square Error \n",
    "criterion = nn.MSELoss()\n",
    "\n",
    "# Optimizer:\n",
    "optimizer = torch.optim.Adam(model.parameters(), lr=learning_rate)"
   ]
  },
  {
   "cell_type": "markdown",
   "metadata": {},
   "source": [
    "## Training"
   ]
  },
  {
   "cell_type": "code",
   "execution_count": 31,
   "metadata": {
    "pycharm": {
     "is_executing": true
    }
   },
   "outputs": [
    {
     "name": "stdout",
     "output_type": "stream",
     "text": [
      "Epoch: 0 Train Loss: 0.044849479500618246, Val Loss: 0.047786448150873184\n",
      "Epoch: 1 Train Loss: 0.04229739809615744, Val Loss: 0.03661663457751274\n",
      "Epoch: 2 Train Loss: 0.03970054417848587, Val Loss: 0.04159460589289665\n",
      "Epoch: 3 Train Loss: 0.03697032741788361, Val Loss: 0.039521023631095886\n",
      "Epoch: 4 Train Loss: 0.034244614210393695, Val Loss: 0.02846563793718815\n",
      "Epoch: 5 Train Loss: 0.03171422496438026, Val Loss: 0.02021000161767006\n",
      "Epoch: 6 Train Loss: 0.0294221339498957, Val Loss: 0.03359692171216011\n",
      "Epoch: 7 Train Loss: 0.027235710883720055, Val Loss: 0.03776104003190994\n",
      "Epoch: 8 Train Loss: 0.02521843223936028, Val Loss: 0.020959874615073204\n",
      "Epoch: 9 Train Loss: 0.0233851954071886, Val Loss: 0.02491186000406742\n"
     ]
    }
   ],
   "source": [
    "epochs_losses_train = []\n",
    "epochs_losses_val = []\n",
    "cc_gainz = []\n",
    "for epoch in range(num_epochs):\n",
    "    batch_losses = []\n",
    "    ## TRAIN ##\n",
    "    for eval_samples, mask in train_loader:\n",
    "        # to GPU\n",
    "        mask = mask.to(device)\n",
    "        eval_samples = eval_samples.to(device)\n",
    "        # apply mask\n",
    "        sample = eval_samples * mask.clone().detach()\n",
    "        sample = torch.unsqueeze(sample.squeeze(), 1)\n",
    "        # complementary mask\n",
    "        c_mask = (1-mask).squeeze()\n",
    "\n",
    "        optimizer.zero_grad()\n",
    "        # apply complementary mask to output (proj. operator)\n",
    "        output = model(sample).squeeze()*c_mask\n",
    "        truth = (eval_samples.squeeze()*c_mask).squeeze()\n",
    "        loss = criterion(output.squeeze(), truth)\n",
    "        batch_losses.append(loss.item())\n",
    "        loss.backward()\n",
    "        optimizer.step()\n",
    "    epochs_losses_train.append(np.mean(batch_losses))\n",
    "    \n",
    "    model.eval()\n",
    "    eval_losses = []\n",
    "    with torch.no_grad():\n",
    "        for eval_samples, mask in val_loader:\n",
    "            # to GPU\n",
    "            mask = mask.to(device)\n",
    "            eval_samples = eval_samples.to(device)\n",
    "            # apply mask\n",
    "            sample = eval_samples * mask.clone().detach()\n",
    "            sample = torch.unsqueeze(sample.squeeze(), 1)\n",
    "            # complementary mask\n",
    "            c_mask = (1-mask).squeeze()\n",
    "\n",
    "            optimizer.zero_grad()\n",
    "            # apply complementary mask to output (proj. operator)\n",
    "            output = model(sample).squeeze()*c_mask\n",
    "            truth = (eval_samples.squeeze()*c_mask).squeeze()\n",
    "            loss = criterion(output.squeeze(), truth)\n",
    "        eval_losses.append(loss.item())\n",
    "        epochs_losses_val.append(np.mean(eval_losses))\n",
    "        print(f\"Epoch: {epoch} Train Loss: {np.mean(batch_losses)}, Val Loss: {np.mean(eval_losses)}\")\n",
    "    model.train()"
   ]
  },
  {
   "cell_type": "code",
   "execution_count": 32,
   "metadata": {
    "pycharm": {
     "is_executing": true
    }
   },
   "outputs": [
    {
     "data": {
      "text/plain": [
       "Text(0.5, 1.0, 'Validation MSE')"
      ]
     },
     "execution_count": 32,
     "metadata": {},
     "output_type": "execute_result"
    },
    {
     "data": {
      "image/png": "[encoded data removed]",
      "text/plain": [
       "<Figure size 1080x504 with 2 Axes>"
      ]
     },
     "metadata": {
      "needs_background": "light"
     },
     "output_type": "display_data"
    }
   ],
   "source": [
    "fig, (ax1, ax2) = plt.subplots(1, 2, figsize=(15, 7))\n",
    "ax1.plot(epochs_losses_train)\n",
    "# ax1.set_yscale(\"log\") \n",
    "ax1.set_title(\"Train MSE\")\n",
    "ax2.plot(epochs_losses_val, 'orange')\n",
    "ax2.set_title(\"Validation MSE\")\n"
   ]
  },
  {
   "cell_type": "code",
   "execution_count": 35,
   "metadata": {
    "pycharm": {
     "is_executing": true
    }
   },
   "outputs": [],
   "source": [
    "torch.save({\n",
    "    'epoch': epoch,\n",
    "    'model_state_dict': model.state_dict(),\n",
    "    'optimizer_state_dict': optimizer.state_dict(),\n",
    "    'loss': loss\n",
    "}, \"C:\\\\Users\\\\nikos\\\\Desktop\\\\denoising\\\\new_model_tests\\\\yo-more-data-2.pth\")\n"
   ]
  }
 ],
 "metadata": {
  "interpreter": {
   "hash": "aa8cdb58d08f0b6ce817fa7ad860908840140a266f1e5835709d32fe36344ae0"
  },
  "kernelspec": {
   "display_name": "Python 3.9.7 64-bit ('pytorch': conda)",
   "language": "python",
   "name": "python3"
  },
  "language_info": {
   "codemirror_mode": {
    "name": "ipython",
    "version": 3
   },
   "file_extension": ".py",
   "mimetype": "text/x-python",
   "name": "python",
   "nbconvert_exporter": "python",
   "pygments_lexer": "ipython3",
   "version": "3.9.7"
  },
  "orig_nbformat": 4
 },
 "nbformat": 4,
 "nbformat_minor": 2
}
