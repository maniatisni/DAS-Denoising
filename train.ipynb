{
 "cells": [
  {
   "cell_type": "code",
   "execution_count": 1,
   "metadata": {},
   "outputs": [],
   "source": [
    "from model import DenoisingUNet\n",
    "from utils import *\n",
    "from data import mask_dataset\n",
    "from tqdm import tqdm\n",
    "from torch.utils.data import DataLoader\n",
    "import matplotlib.pyplot as plt\n",
    "import os\n",
    "from glob import glob\n",
    "import torch.nn as nn\n",
    "import torch\n",
    "\n",
    "sampleRate = 68.27"
   ]
  },
  {
   "cell_type": "markdown",
   "metadata": {},
   "source": [
    "## Train - Val - Test sets"
   ]
  },
  {
   "cell_type": "code",
   "execution_count": 2,
   "metadata": {},
   "outputs": [],
   "source": [
    "train_path = \"train\"\n",
    "val_path = \"validation\"\n",
    "test_path = \"test\"\n",
    "train_files = glob(os.path.join(train_path, '*.npy'))\n",
    "val_files = glob(os.path.join(val_path, '*.npy'))\n",
    "test_files = glob(os.path.join(test_path, '*.npy'))"
   ]
  },
  {
   "cell_type": "code",
   "execution_count": 3,
   "metadata": {},
   "outputs": [],
   "source": [
    "for file in train_files:\n",
    "    if file in val_files:\n",
    "        print(f\"{file} in validation dataset.\")\n",
    "    elif file in test_files:\n",
    "        print(f\"{file} in test set.\")\n",
    "    else:\n",
    "        pass"
   ]
  },
  {
   "cell_type": "markdown",
   "metadata": {},
   "source": [
    "## Hyperparameters"
   ]
  },
  {
   "cell_type": "code",
   "execution_count": 2,
   "metadata": {},
   "outputs": [],
   "source": [
    "N_sub = 32\n",
    "batch_size = 32\n",
    "hidden_layers = 4\n",
    "learning_rate = 1e-4\n",
    "num_epochs = 10"
   ]
  },
  {
   "cell_type": "markdown",
   "metadata": {},
   "source": [
    "## Datasets and DataLoaders"
   ]
  },
  {
   "cell_type": "code",
   "execution_count": 5,
   "metadata": {
    "pycharm": {
     "is_executing": true
    }
   },
   "outputs": [],
   "source": [
    "# train_dataset = mask_dataset(data_path='train', f_min=1, f_max=10, N_sub=N_sub, sampleRate=sampleRate)\n",
    "# train_loader = DataLoader(train_dataset, batch_size=batch_size, drop_last=True, shuffle=True)"
   ]
  },
  {
   "cell_type": "code",
   "execution_count": 6,
   "metadata": {
    "pycharm": {
     "is_executing": true
    }
   },
   "outputs": [],
   "source": [
    "# val_dataset = mask_dataset(data_path='validation', f_min=1, f_max=10, N_sub=N_sub, sampleRate=sampleRate)\n",
    "# val_loader = DataLoader(val_dataset, batch_size=batch_size, drop_last=True, shuffle=True)"
   ]
  },
  {
   "cell_type": "code",
   "execution_count": 3,
   "metadata": {
    "pycharm": {
     "is_executing": true
    }
   },
   "outputs": [],
   "source": [
    "test_dataset = mask_dataset(data_path='test', f_min = 1, f_max = 10, N_sub=N_sub, sampleRate=sampleRate)\n",
    "test_loader = DataLoader(test_dataset,batch_size = batch_size,drop_last=True,shuffle = True)"
   ]
  },
  {
   "cell_type": "code",
   "execution_count": 5,
   "metadata": {
    "pycharm": {
     "is_executing": true
    }
   },
   "outputs": [
    {
     "name": "stdout",
     "output_type": "stream",
     "text": [
      "NVIDIA GeForce RTX 2070\n",
      "device is cuda:0.\n"
     ]
    }
   ],
   "source": [
    "# GPU\n",
    "print(torch.cuda.get_device_name(0))\n",
    "device = torch.device(\"cuda:0\" if torch.cuda.is_available() else \"cpu\")\n",
    "print(f'device is {device}.')\n",
    "\n",
    "# model = DenoisingUNet(input_bands=1, output_classes=1, hidden_channels=hidden_layers)\n",
    "# model.to(device)\n",
    "# Load model trained at synthetic data\n",
    "model = DenoisingUNet(input_bands=1, output_classes=1, hidden_channels=hidden_layers)\n",
    "state = torch.load('./new_model_tests/synthetic-train.pth')\n",
    "model.load_state_dict(state['model_state_dict'])\n",
    "model.train()\n",
    "model.to(device)\n",
    "# Mean Square Error \n",
    "criterion = nn.MSELoss()\n",
    "\n",
    "# Optimizer:\n",
    "optimizer = torch.optim.Adam(model.parameters(), lr=learning_rate)"
   ]
  },
  {
   "cell_type": "markdown",
   "metadata": {},
   "source": [
    "## Training"
   ]
  },
  {
   "cell_type": "code",
   "execution_count": 6,
   "metadata": {
    "pycharm": {
     "is_executing": true
    }
   },
   "outputs": [
    {
     "name": "stdout",
     "output_type": "stream",
     "text": [
      "Starting epoch: #0\n"
     ]
    },
    {
     "name": "stderr",
     "output_type": "stream",
     "text": [
      "100%|██████████| 75/75 [00:10<00:00,  7.48it/s]\n"
     ]
    },
    {
     "name": "stdout",
     "output_type": "stream",
     "text": [
      "Epoch: 0 Training Loss: 0.018194265427688757\n",
      "Starting epoch: #1\n"
     ]
    },
    {
     "name": "stderr",
     "output_type": "stream",
     "text": [
      "100%|██████████| 75/75 [00:07<00:00, 10.36it/s]\n"
     ]
    },
    {
     "name": "stdout",
     "output_type": "stream",
     "text": [
      "Epoch: 1 Training Loss: 0.005741822213555375\n",
      "Starting epoch: #2\n"
     ]
    },
    {
     "name": "stderr",
     "output_type": "stream",
     "text": [
      "100%|██████████| 75/75 [00:07<00:00, 10.36it/s]\n"
     ]
    },
    {
     "name": "stdout",
     "output_type": "stream",
     "text": [
      "Epoch: 2 Training Loss: 0.0031294236999625962\n",
      "Starting epoch: #3\n"
     ]
    },
    {
     "name": "stderr",
     "output_type": "stream",
     "text": [
      "100%|██████████| 75/75 [00:07<00:00, 10.52it/s]\n"
     ]
    },
    {
     "name": "stdout",
     "output_type": "stream",
     "text": [
      "Epoch: 3 Training Loss: 0.002477838881313801\n",
      "Starting epoch: #4\n"
     ]
    },
    {
     "name": "stderr",
     "output_type": "stream",
     "text": [
      "100%|██████████| 75/75 [00:07<00:00, 10.69it/s]\n"
     ]
    },
    {
     "name": "stdout",
     "output_type": "stream",
     "text": [
      "Epoch: 4 Training Loss: 0.0022186838695779443\n",
      "Starting epoch: #5\n"
     ]
    },
    {
     "name": "stderr",
     "output_type": "stream",
     "text": [
      "100%|██████████| 75/75 [00:07<00:00, 10.42it/s]\n"
     ]
    },
    {
     "name": "stdout",
     "output_type": "stream",
     "text": [
      "Epoch: 5 Training Loss: 0.002052531160103778\n",
      "Starting epoch: #6\n"
     ]
    },
    {
     "name": "stderr",
     "output_type": "stream",
     "text": [
      "100%|██████████| 75/75 [00:07<00:00, 10.42it/s]\n"
     ]
    },
    {
     "name": "stdout",
     "output_type": "stream",
     "text": [
      "Epoch: 6 Training Loss: 0.0019586226825291913\n",
      "Starting epoch: #7\n"
     ]
    },
    {
     "name": "stderr",
     "output_type": "stream",
     "text": [
      "100%|██████████| 75/75 [00:07<00:00, 10.37it/s]\n"
     ]
    },
    {
     "name": "stdout",
     "output_type": "stream",
     "text": [
      "Epoch: 7 Training Loss: 0.0018811159984519084\n",
      "Starting epoch: #8\n"
     ]
    },
    {
     "name": "stderr",
     "output_type": "stream",
     "text": [
      "100%|██████████| 75/75 [00:07<00:00, 10.41it/s]\n"
     ]
    },
    {
     "name": "stdout",
     "output_type": "stream",
     "text": [
      "Epoch: 8 Training Loss: 0.001817985827413698\n",
      "Starting epoch: #9\n"
     ]
    },
    {
     "name": "stderr",
     "output_type": "stream",
     "text": [
      "100%|██████████| 75/75 [00:07<00:00, 10.36it/s]"
     ]
    },
    {
     "name": "stdout",
     "output_type": "stream",
     "text": [
      "Epoch: 9 Training Loss: 0.0017567412694916129\n"
     ]
    },
    {
     "name": "stderr",
     "output_type": "stream",
     "text": [
      "\n"
     ]
    }
   ],
   "source": [
    "epochs_losses_train = []\n",
    "epochs_losses_val = []\n",
    "for epoch in range(num_epochs):\n",
    "    print(f\"Starting epoch: #{epoch}\")\n",
    "    batch_losses = []\n",
    "    ## TRAIN ##\n",
    "    for eval_samples, mask in tqdm(test_loader):\n",
    "        # to GPU\n",
    "        mask = mask.to(device)\n",
    "        eval_samples = eval_samples.to(device)\n",
    "        # apply mask\n",
    "        sample = eval_samples * mask.clone().detach()\n",
    "        sample = torch.unsqueeze(sample.squeeze(), 1)\n",
    "        # complementary mask\n",
    "        c_mask = (1-mask).squeeze()\n",
    "\n",
    "        optimizer.zero_grad()\n",
    "        # apply complementary mask to output (proj. operator)\n",
    "        output = model(sample).squeeze()*c_mask\n",
    "        truth = (eval_samples.squeeze()*c_mask).squeeze()\n",
    "        loss = criterion(output.squeeze(), truth)\n",
    "        batch_losses.append(loss.item())\n",
    "        loss.backward()\n",
    "        optimizer.step()\n",
    "    epochs_losses_train.append(np.mean(batch_losses))\n",
    "    print(f\"Epoch: {epoch} Training Loss: {np.mean(batch_losses)}\")\n",
    "    # model.eval()\n",
    "    # eval_losses = []\n",
    "    # with torch.no_grad():\n",
    "    #     for eval_samples, mask in tqdm(val_loader):\n",
    "    #         # to GPU\n",
    "    #         mask = mask.to(device)\n",
    "    #         eval_samples = eval_samples.to(device)\n",
    "    #         # apply mask\n",
    "    #         sample = eval_samples * mask.clone().detach()\n",
    "    #         sample = torch.unsqueeze(sample.squeeze(), 1)\n",
    "    #         # complementary mask\n",
    "    #         c_mask = (1-mask).squeeze()\n",
    "\n",
    "    #         optimizer.zero_grad()\n",
    "    #         # apply complementary mask to output (proj. operator)\n",
    "    #         output = model(sample).squeeze()*c_mask\n",
    "    #         truth = (eval_samples.squeeze()*c_mask).squeeze()\n",
    "    #         loss = criterion(output.squeeze(), truth)\n",
    "    #     eval_losses.append(loss.item())\n",
    "    #     epochs_losses_val.append(np.mean(eval_losses))\n",
    "    # print(f\"Epoch: {epoch} Validation Loss: {np.mean(eval_losses)}\")\n",
    "    # model.train()"
   ]
  },
  {
   "cell_type": "code",
   "execution_count": 7,
   "metadata": {
    "pycharm": {
     "is_executing": true
    }
   },
   "outputs": [
    {
     "data": {
      "text/plain": [
       "Text(0.5, 1.0, 'Train MSE')"
      ]
     },
     "execution_count": 7,
     "metadata": {},
     "output_type": "execute_result"
    },
    {
     "data": {
      "image/png": "[encoded data removed]",
      "text/plain": [
       "<Figure size 648x504 with 2 Axes>"
      ]
     },
     "metadata": {
      "needs_background": "light"
     },
     "output_type": "display_data"
    }
   ],
   "source": [
    "fig, (ax1, ax2) = plt.subplots(1, 2, figsize=(9, 7))\n",
    "ax1.plot(epochs_losses_train)\n",
    "# ax1.set_yscale(\"log\") \n",
    "ax1.set_title(\"Train MSE\")\n",
    "# ax2.plot(epochs_losses_val, 'orange')\n",
    "# ax2.set_title(\"Validation MSE\")"
   ]
  },
  {
   "cell_type": "code",
   "execution_count": 8,
   "metadata": {
    "pycharm": {
     "is_executing": true
    }
   },
   "outputs": [],
   "source": [
    "torch.save({\n",
    "    'epoch': epoch,\n",
    "    'model_state_dict': model.state_dict(),\n",
    "    'optimizer_state_dict': optimizer.state_dict(),\n",
    "    'loss': loss\n",
    "}, \"C:\\\\Users\\\\nikos\\\\Desktop\\\\denoising\\\\new_model_tests\\\\alt-mask-test-3-both.pth\")\n"
   ]
  },
  {
   "cell_type": "code",
   "execution_count": 12,
   "metadata": {
    "pycharm": {
     "name": "#%%\n"
    }
   },
   "outputs": [],
   "source": [
    "# from time import sleep\n",
    "# sleep(60*2)\n",
    "# os.system(\"shutdown -l\")\n"
   ]
  }
 ],
 "metadata": {
  "interpreter": {
   "hash": "aa8cdb58d08f0b6ce817fa7ad860908840140a266f1e5835709d32fe36344ae0"
  },
  "kernelspec": {
   "display_name": "Python 3.9.7 64-bit ('pytorch': conda)",
   "language": "python",
   "name": "python3"
  },
  "language_info": {
   "codemirror_mode": {
    "name": "ipython",
    "version": 3
   },
   "file_extension": ".py",
   "mimetype": "text/x-python",
   "name": "python",
   "nbconvert_exporter": "python",
   "pygments_lexer": "ipython3",
   "version": "3.9.7"
  },
  "orig_nbformat": 4
 },
 "nbformat": 4,
 "nbformat_minor": 2
}
