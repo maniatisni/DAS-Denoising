{
 "cells": [
  {
   "cell_type": "code",
   "execution_count": 1,
   "metadata": {},
   "outputs": [],
   "source": [
    "from model import DenoisingUNet\n",
    "from utils import *\n",
    "from data import mask_dataset\n",
    "from tqdm import tqdm\n",
    "from torch.utils.data import DataLoader\n",
    "import matplotlib.pyplot as plt\n",
    "import os\n",
    "from glob import glob\n",
    "import torch.nn as nn\n",
    "import torch\n",
    "sampleRate = 49.95"
   ]
  },
  {
   "cell_type": "markdown",
   "metadata": {},
   "source": [
    "## Train - Val - Test sets"
   ]
  },
  {
   "cell_type": "code",
   "execution_count": 2,
   "metadata": {},
   "outputs": [],
   "source": [
    "train_path = \"train-events\"\n",
    "val_path = \"val-events\"\n",
    "train_files = glob(os.path.join(train_path, '*.npy'))\n",
    "val_files = glob(os.path.join(val_path, '*.npy'))"
   ]
  },
  {
   "cell_type": "markdown",
   "metadata": {},
   "source": [
    "## Hyperparameters"
   ]
  },
  {
   "cell_type": "code",
   "execution_count": 3,
   "metadata": {},
   "outputs": [],
   "source": [
    "N_sub = 32\n",
    "batch_size = 32\n",
    "hidden_layers = 6\n",
    "learning_rate = 5e-6\n",
    "num_epochs = 30"
   ]
  },
  {
   "cell_type": "markdown",
   "metadata": {},
   "source": [
    "## Datasets and DataLoaders"
   ]
  },
  {
   "cell_type": "code",
   "execution_count": 4,
   "metadata": {
    "pycharm": {
     "is_executing": true
    }
   },
   "outputs": [],
   "source": [
    "train_dataset = mask_dataset(data_path='train-events', f_min=1, f_max=10, N_sub=N_sub, sampleRate=sampleRate)\n",
    "train_loader = DataLoader(train_dataset, batch_size=batch_size, drop_last=True, shuffle=True)"
   ]
  },
  {
   "cell_type": "code",
   "execution_count": 5,
   "metadata": {
    "pycharm": {
     "is_executing": true
    }
   },
   "outputs": [],
   "source": [
    "val_dataset = mask_dataset(data_path='validation-events', f_min=1, f_max=10, N_sub=N_sub, sampleRate=sampleRate)\n",
    "val_loader = DataLoader(val_dataset, batch_size=batch_size, drop_last=True, shuffle=True)"
   ]
  },
  {
   "cell_type": "code",
   "execution_count": 6,
   "metadata": {
    "pycharm": {
     "is_executing": true
    }
   },
   "outputs": [
    {
     "name": "stdout",
     "output_type": "stream",
     "text": [
      "NVIDIA GeForce RTX 2070\n",
      "device is cuda:0.\n"
     ]
    }
   ],
   "source": [
    "# GPU\n",
    "print(torch.cuda.get_device_name(0))\n",
    "device = torch.device(\"cuda:0\" if torch.cuda.is_available() else \"cpu\")\n",
    "print(f'device is {device}.')\n",
    "\n",
    "# model = DenoisingUNet(input_bands=1, output_classes=1, hidden_channels=hidden_layers)\n",
    "# model.to(device)\n",
    "# Load model trained at synthetic data\n",
    "model = DenoisingUNet(input_bands=1, output_classes=1, hidden_channels=hidden_layers)\n",
    "state = torch.load('./new_model_tests/synthetic-train-1085.pth')\n",
    "model.load_state_dict(state['model_state_dict'])\n",
    "model.train()\n",
    "model.to(device)\n",
    "# Mean Square Error \n",
    "criterion = nn.MSELoss()\n",
    "\n",
    "# Optimizer:\n",
    "optimizer = torch.optim.Adam(model.parameters(), lr=learning_rate)"
   ]
  },
  {
   "cell_type": "markdown",
   "metadata": {},
   "source": [
    "## Training"
   ]
  },
  {
   "cell_type": "code",
   "execution_count": 7,
   "metadata": {
    "pycharm": {
     "is_executing": true
    }
   },
   "outputs": [
    {
     "name": "stdout",
     "output_type": "stream",
     "text": [
      "Epoch: 0 Train Loss: 0.020746727269142867, Val Loss: 0.018142297863960266, Avg CC Gain: 14.59956735016139\n",
      "Epoch: 1 Train Loss: 0.015088438931852579, Val Loss: 0.012194441631436348, Avg CC Gain: 14.467954550635898\n",
      "Epoch: 2 Train Loss: 0.011608127833654483, Val Loss: 0.01126742735505104, Avg CC Gain: 15.040299049948516\n",
      "Epoch: 3 Train Loss: 0.009462445958827932, Val Loss: 0.014151680283248425, Avg CC Gain: 10.76882432833142\n",
      "Epoch: 4 Train Loss: 0.00808206952487429, Val Loss: 0.008184865117073059, Avg CC Gain: 15.84901691133608\n",
      "Epoch: 5 Train Loss: 0.00715562637274464, Val Loss: 0.011273286305367947, Avg CC Gain: 15.530764382292048\n",
      "Epoch: 6 Train Loss: 0.006514945734913151, Val Loss: 0.011413858272135258, Avg CC Gain: 13.55772013529668\n",
      "Epoch: 7 Train Loss: 0.006051131181108455, Val Loss: 0.008685479871928692, Avg CC Gain: 10.091421841841328\n",
      "Epoch: 8 Train Loss: 0.005690825187290708, Val Loss: 0.0073445700109004974, Avg CC Gain: 13.388264705456873\n",
      "Epoch: 9 Train Loss: 0.005403030584566295, Val Loss: 0.011403804644942284, Avg CC Gain: 13.736385621722178\n",
      "Epoch: 10 Train Loss: 0.005172458947636187, Val Loss: 0.007349653635174036, Avg CC Gain: 14.428837501069896\n",
      "Epoch: 11 Train Loss: 0.004968910479607682, Val Loss: 0.009719045832753181, Avg CC Gain: 10.292472882318112\n",
      "Epoch: 12 Train Loss: 0.00480785021558404, Val Loss: 0.008013177663087845, Avg CC Gain: 14.33321798387375\n",
      "Epoch: 13 Train Loss: 0.004662987856815259, Val Loss: 0.00837656669318676, Avg CC Gain: 11.612589849027465\n",
      "Epoch: 14 Train Loss: 0.004537112362061938, Val Loss: 0.005670211743563414, Avg CC Gain: 13.586815097357832\n",
      "Epoch: 15 Train Loss: 0.004437229327547054, Val Loss: 0.006688999943435192, Avg CC Gain: 15.172870108585109\n",
      "Epoch: 16 Train Loss: 0.00434711740196993, Val Loss: 0.0067758155055344105, Avg CC Gain: 11.252007974340007\n",
      "Epoch: 17 Train Loss: 0.004257574730242292, Val Loss: 0.004153635818511248, Avg CC Gain: 12.132024095015048\n",
      "Epoch: 18 Train Loss: 0.004201976470649242, Val Loss: 0.004137692041695118, Avg CC Gain: 11.765795573201057\n",
      "Epoch: 19 Train Loss: 0.004128439384512603, Val Loss: 0.006124643608927727, Avg CC Gain: 11.823894372024933\n",
      "Epoch: 20 Train Loss: 0.00406879643133531, Val Loss: 0.003650230821222067, Avg CC Gain: 16.67041628150188\n",
      "Epoch: 21 Train Loss: 0.00402118384372443, Val Loss: 0.005289892200380564, Avg CC Gain: 14.85144066531425\n",
      "Epoch: 22 Train Loss: 0.0039801547024399045, Val Loss: 0.004025506787002087, Avg CC Gain: 12.980370066823095\n",
      "Epoch: 23 Train Loss: 0.003934200090977053, Val Loss: 0.007945720106363297, Avg CC Gain: 9.722585318514191\n",
      "Epoch: 24 Train Loss: 0.003899318682961166, Val Loss: 0.006025384645909071, Avg CC Gain: 12.508399462632553\n",
      "Epoch: 25 Train Loss: 0.0038685921672731638, Val Loss: 0.008197488263249397, Avg CC Gain: 10.864893049320871\n",
      "Epoch: 26 Train Loss: 0.0038212040842821203, Val Loss: 0.006230028346180916, Avg CC Gain: 14.398860631288574\n",
      "Epoch: 27 Train Loss: 0.0037954932482292254, Val Loss: 0.006608413532376289, Avg CC Gain: 12.959607362850406\n",
      "Epoch: 28 Train Loss: 0.003763061263598502, Val Loss: 0.004481794312596321, Avg CC Gain: 10.441958743899574\n",
      "Epoch: 29 Train Loss: 0.003739512450993061, Val Loss: 0.0032796799205243587, Avg CC Gain: 15.521520977800375\n"
     ]
    }
   ],
   "source": [
    "epochs_losses_train = []\n",
    "epochs_losses_val = []\n",
    "cc_gainz = []\n",
    "for epoch in range(num_epochs):\n",
    "    batch_losses = []\n",
    "    ## TRAIN ##\n",
    "    for eval_samples, mask in train_loader:\n",
    "        # to GPU\n",
    "        mask = mask.to(device)\n",
    "        eval_samples = eval_samples.to(device)\n",
    "        # apply mask\n",
    "        sample = eval_samples * mask.clone().detach()\n",
    "        sample = torch.unsqueeze(sample.squeeze(), 1)\n",
    "        # complementary mask\n",
    "        c_mask = (1-mask).squeeze()\n",
    "\n",
    "        optimizer.zero_grad()\n",
    "        # apply complementary mask to output (proj. operator)\n",
    "        output = model(sample).squeeze()*c_mask\n",
    "        truth = (eval_samples.squeeze()*c_mask).squeeze()\n",
    "        loss = criterion(output.squeeze(), truth)\n",
    "        batch_losses.append(loss.item())\n",
    "        loss.backward()\n",
    "        optimizer.step()\n",
    "    epochs_losses_train.append(np.mean(batch_losses))\n",
    "    \n",
    "    model.eval()\n",
    "    eval_losses = []\n",
    "    with torch.no_grad():\n",
    "        for eval_samples, mask in val_loader:\n",
    "            # to GPU\n",
    "            mask = mask.to(device)\n",
    "            eval_samples = eval_samples.to(device)\n",
    "            # apply mask\n",
    "            sample = eval_samples * mask.clone().detach()\n",
    "            sample = torch.unsqueeze(sample.squeeze(), 1)\n",
    "            # complementary mask\n",
    "            c_mask = (1-mask).squeeze()\n",
    "\n",
    "            optimizer.zero_grad()\n",
    "            # apply complementary mask to output (proj. operator)\n",
    "            output = model(sample).squeeze()*c_mask\n",
    "            truth = (eval_samples.squeeze()*c_mask).squeeze()\n",
    "            loss = criterion(output.squeeze(), truth)\n",
    "        eval_losses.append(loss.item())\n",
    "        epochs_losses_val.append(np.mean(eval_losses))\n",
    "        #### TRY TESTING MODEL TO SEE MEAN CC GAIN.\n",
    "        og = np.array(eval_samples.detach().cpu())\n",
    "        rec = np.array(output.detach().cpu())\n",
    "        bin_size = 5\n",
    "        cc_og = compute_moving_coherence(og, bin_size)\n",
    "        cc_rec = compute_moving_coherence(rec, bin_size)\n",
    "        cc_gain = cc_rec / cc_og\n",
    "        cc_gainz.append(np.mean(cc_gain))\n",
    "        print(f\"Epoch: {epoch} Train Loss: {np.mean(batch_losses)}, Val Loss: {np.mean(eval_losses)}, Avg CC Gain: {np.mean(cc_gain)}\")\n",
    "    model.train()"
   ]
  },
  {
   "cell_type": "code",
   "execution_count": 13,
   "metadata": {
    "pycharm": {
     "is_executing": true
    }
   },
   "outputs": [
    {
     "data": {
      "text/plain": [
       "Text(0.5, 1.0, 'Validation MSE')"
      ]
     },
     "execution_count": 13,
     "metadata": {},
     "output_type": "execute_result"
    },
    {
     "data": {
      "image/png": "[encoded data removed]",
      "text/plain": [
       "<Figure size 1080x504 with 2 Axes>"
      ]
     },
     "metadata": {
      "needs_background": "light"
     },
     "output_type": "display_data"
    }
   ],
   "source": [
    "fig, (ax1, ax2) = plt.subplots(1, 2, figsize=(15, 7))\n",
    "ax1.plot(epochs_losses_train)\n",
    "# ax1.set_yscale(\"log\") \n",
    "ax1.set_title(\"Train MSE\")\n",
    "ax2.plot(epochs_losses_val, 'orange')\n",
    "ax2.set_title(\"Validation MSE\")\n"
   ]
  },
  {
   "cell_type": "code",
   "execution_count": 9,
   "metadata": {
    "pycharm": {
     "is_executing": true
    }
   },
   "outputs": [],
   "source": [
    "torch.save({\n",
    "    'epoch': epoch,\n",
    "    'model_state_dict': model.state_dict(),\n",
    "    'optimizer_state_dict': optimizer.state_dict(),\n",
    "    'loss': loss\n",
    "}, \"C:\\\\Users\\\\nikos\\\\Desktop\\\\denoising\\\\new_model_tests\\\\yo30.pth\")\n"
   ]
  },
  {
   "cell_type": "code",
   "execution_count": 10,
   "metadata": {
    "pycharm": {
     "name": "#%%\n"
    }
   },
   "outputs": [],
   "source": [
    "# from time import sleep\n",
    "# sleep(60*2)\n",
    "# os.system(\"shutdown -l\")\n"
   ]
  }
 ],
 "metadata": {
  "interpreter": {
   "hash": "aa8cdb58d08f0b6ce817fa7ad860908840140a266f1e5835709d32fe36344ae0"
  },
  "kernelspec": {
   "display_name": "Python 3.9.7 64-bit ('pytorch': conda)",
   "language": "python",
   "name": "python3"
  },
  "language_info": {
   "codemirror_mode": {
    "name": "ipython",
    "version": 3
   },
   "file_extension": ".py",
   "mimetype": "text/x-python",
   "name": "python",
   "nbconvert_exporter": "python",
   "pygments_lexer": "ipython3",
   "version": "3.9.7"
  },
  "orig_nbformat": 4
 },
 "nbformat": 4,
 "nbformat_minor": 2
}
